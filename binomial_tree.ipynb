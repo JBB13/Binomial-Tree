{
 "cells": [
  {
   "cell_type": "markdown",
   "metadata": {},
   "source": [
    "**OPTION:**  \n",
    " A contract that gives the buyer the right, but not the obligation, to buy or sell an underlying asset or instrument at a specific strike price prior to or on a specific date.\n",
    "\n",
    "  **Premium:**  \n",
    "    The price that the buyer pays for the option.\n",
    "\n",
    "  **Expiration date:**  \n",
    "    The fixed day when the option can be exercised.\n",
    "\n",
    "  **Underlying:**  \n",
    "    The asset on which the option is based.\n"
   ]
  },
  {
   "cell_type": "markdown",
   "metadata": {},
   "source": [
    "**BINOMIAL TREE:** \n",
    "\n",
    "Time step duratio is calculated dividing the total time with the number of steps.\n",
    "$$\n",
    "dt = \\frac{T}{N}\n",
    "$$\n",
    "\n",
    "Upside and Downsie factor:\n",
    "$$\n",
    "\\text{e: euler base is due to assets move in exponential way.}\n",
    "$$\n",
    "$$\n",
    "\\sigma \\text{: is the volatility of the asset.}\n",
    "$$\n",
    "\n",
    "$$\n",
    "u = e^{\\sigma \\sqrt{dt}}\n",
    "$$\n",
    "$$\n",
    "d = e^{-\\sigma \\sqrt{dt}}\n",
    "$$\n",
    "\n",
    "$$\n",
    "\\text{neutral risk upside probability:  } \\frac{e^{r*dt}-d}{u-d}\n",
    "$$\n",
    "The tree can be represented as:  \n",
    "$$\n",
    " S_{i,j} = S_0 \\cdot u^{i-j} \\cdot d^j\n",
    "$$\n",
    "\n",
    "\n",
    "S_0 = inital stock price\n",
    "\n",
    "i = total steps\n",
    "\n",
    "j = number of times that stock have fallen\n"
   ]
  },
  {
   "cell_type": "code",
   "execution_count": 3,
   "metadata": {},
   "outputs": [],
   "source": [
    "import numpy as np \n",
    "import pandas as pd \n",
    "import matplotlib.pyplot as plt"
   ]
  },
  {
   "cell_type": "code",
   "execution_count": 4,
   "metadata": {},
   "outputs": [
    {
     "name": "stdout",
     "output_type": "stream",
     "text": [
      "dt = 0.3333\n",
      "u = 1.1224\n",
      "d = 0.8909\n",
      "p = 0.5438\n"
     ]
    }
   ],
   "source": [
    "S = 100        \n",
    "K = 100        \n",
    "T = 1          \n",
    "r = 0.05       \n",
    "sigma = 0.2    \n",
    "N = 3        \n",
    "dt = T / N\n",
    "\n",
    "u = np.exp(sigma * np.sqrt(dt))\n",
    "d = np.exp(-sigma * np.sqrt(dt))\n",
    "\n",
    "p = (np.exp(r * dt) - d) / (u - d)\n",
    "\n",
    "\n",
    "print(f\"dt = {dt:.4f}\")\n",
    "print(f\"u = {u:.4f}\")\n",
    "print(f\"d = {d:.4f}\")\n",
    "print(f\"p = {p:.4f}\")"
   ]
  },
  {
   "cell_type": "code",
   "execution_count": 5,
   "metadata": {},
   "outputs": [
    {
     "name": "stdout",
     "output_type": "stream",
     "text": [
      "       0           1           2           3\n",
      "0  100.0  112.240090  125.978379  141.398246\n",
      "1    0.0   89.094725  100.000000  112.240090\n",
      "2    0.0    0.000000   79.378701   89.094725\n",
      "3    0.0    0.000000    0.000000   70.722235\n"
     ]
    }
   ],
   "source": [
    "stock_tree = np.zeros((N+1, N+1))\n",
    "\n",
    "for i in range(N+1):\n",
    "    for j in range(i+1):\n",
    "        stock_tree[j, i] = S*(u**(i-j))*((d**j))\n",
    "\n",
    "stock_tree = pd.DataFrame(stock_tree)\n",
    "\n",
    "print(stock_tree)"
   ]
  },
  {
   "cell_type": "markdown",
   "metadata": {},
   "source": [
    "Next, we are going to calculate the payoff for each option:\n",
    "$$\n",
    "\\text{Payoff} = max(S_{T}-K,0)\n",
    "$$"
   ]
  },
  {
   "cell_type": "code",
   "execution_count": 6,
   "metadata": {},
   "outputs": [
    {
     "name": "stdout",
     "output_type": "stream",
     "text": [
      "     0    1    2          3\n",
      "0  0.0  0.0  0.0  41.398246\n",
      "1  0.0  0.0  0.0  12.240090\n",
      "2  0.0  0.0  0.0   0.000000\n",
      "3  0.0  0.0  0.0   0.000000\n",
      "0    41.398246\n",
      "1    12.240090\n",
      "2     0.000000\n",
      "3     0.000000\n",
      "Name: 3, dtype: float64\n"
     ]
    }
   ],
   "source": [
    "option_tree = np.zeros((N+1,N+1))\n",
    "\n",
    "for i in range(N+1):\n",
    "    option_tree[i, N] = max(stock_tree.iloc[i,N]-K,0)\n",
    "\n",
    "option_tree = pd.DataFrame(option_tree)\n",
    "print(option_tree)\n",
    "\n",
    "print(option_tree.iloc[:, N])"
   ]
  },
  {
   "cell_type": "markdown",
   "metadata": {},
   "source": [
    "**Backward Induction:** Is the discounted expected value of its two possible paths, where $C_{i,j}$ is the value in each node\n",
    "\n",
    "$$\n",
    "C_{i,j} = e^{-r \\cdot dt}\\cdot (p \\cdot C_{i,j+1}+(1-p)\\cdot C_{i+1,j+1})\n",
    "$$\n"
   ]
  },
  {
   "cell_type": "code",
   "execution_count": 7,
   "metadata": {},
   "outputs": [
    {
     "name": "stdout",
     "output_type": "stream",
     "text": [
      "           0          1          2          3\n",
      "0  11.043871  17.713888  27.631233  41.398246\n",
      "1   0.000000   3.500654   6.545863  12.240090\n",
      "2   0.000000   0.000000   0.000000   0.000000\n",
      "3   0.000000   0.000000   0.000000   0.000000\n"
     ]
    }
   ],
   "source": [
    "option_tree = option_tree.to_numpy()\n",
    "\n",
    "for j in reversed(range(N)):\n",
    "    for i in range(j+1):\n",
    "        option_tree[i, j] = np.exp(-r * dt) * (p * option_tree[i, j+1] + (1 - p) * option_tree[i+1, j+1])\n",
    "\n",
    "\n",
    "option_tree = pd.DataFrame(option_tree)\n",
    "print(option_tree)"
   ]
  },
  {
   "cell_type": "markdown",
   "metadata": {},
   "source": [
    "**EUROPEAN CALL:**"
   ]
  },
  {
   "cell_type": "code",
   "execution_count": 8,
   "metadata": {},
   "outputs": [
    {
     "name": "stdout",
     "output_type": "stream",
     "text": [
      "99.99996504239652\n"
     ]
    }
   ],
   "source": [
    "def binomial_option_pricing_call_european(S, K, T, r, sigma, N):\n",
    "    dt = T / N\n",
    "    u = np.exp(sigma * np.sqrt(dt))\n",
    "    d = 1 / u\n",
    "    p = (np.exp(r * dt) - d) / (u - d)\n",
    "    \n",
    "    # Generación de precios finales del subyacente\n",
    "    ST = np.array([S * (u ** j) * (d ** (N - j)) for j in range(N + 1)])\n",
    "    \n",
    "    # Payoff al vencimiento para CALL\n",
    "    option_values = np.maximum(ST - K, 0)\n",
    "    \n",
    "    # Backward induction\n",
    "    for i in range(N-1, -1, -1):\n",
    "        option_values = np.exp(-r * dt) * (p * option_values[1:] + (1 - p) * option_values[:-1])\n",
    "    \n",
    "    return option_values[0]\n",
    "\n",
    "\n"
   ]
  },
  {
   "cell_type": "markdown",
   "metadata": {},
   "source": [
    "**EUROPEAN PUT:**"
   ]
  },
  {
   "cell_type": "code",
   "execution_count": 9,
   "metadata": {},
   "outputs": [],
   "source": [
    "def binomial_option_pricing_put_european(S, K, T, r, sigma, N):\n",
    "    dt = T / N\n",
    "    u = np.exp(sigma * np.sqrt(dt))\n",
    "    d = 1 / u\n",
    "    p = (np.exp(r * dt) - d) / (u - d)\n",
    "    \n",
    "    # Generación de precios finales del subyacente\n",
    "    ST = np.array([S * (u**j) * (d**(N - j)) for j in range(N + 1)])\n",
    "    \n",
    "    # Payoff al vencimiento para PUT\n",
    "    option_values = np.maximum(K - ST, 0)\n",
    "    \n",
    "    # Backward induction\n",
    "    for i in range(N-1, -1, -1):\n",
    "        option_values = np.exp(-r * dt) * (p * option_values[1:] + (1 - p) * option_values[:-1])\n",
    "    \n",
    "    return option_values[0]\n"
   ]
  },
  {
   "cell_type": "markdown",
   "metadata": {},
   "source": [
    "**AMERICAN CALL:**"
   ]
  },
  {
   "cell_type": "code",
   "execution_count": 10,
   "metadata": {},
   "outputs": [],
   "source": [
    "def binomial_option_pricing_call_american(S, K, T, r, sigma, N):\n",
    "    dt = T / N\n",
    "    u = np.exp(sigma * np.sqrt(dt))\n",
    "    d = 1 / u\n",
    "    p = (np.exp(r * dt) - d) / (u - d)\n",
    "    \n",
    "    ST = np.array([S * (u**j) * (d**(N - j)) for j in range(N + 1)])\n",
    "    option_values = np.maximum(ST - K, 0)\n",
    "    \n",
    "    for i in range(N-1, -1, -1):\n",
    "        ST = ST[:i+1] * u**-1  # recalcular los precios del subyacente en el paso i\n",
    "        continuation = np.exp(-r * dt) * (p * option_values[1:] + (1 - p) * option_values[:-1])\n",
    "        exercise = np.maximum(ST - K, 0)\n",
    "        option_values = np.maximum(continuation, exercise)\n",
    "    \n",
    "    return option_values[0]"
   ]
  },
  {
   "cell_type": "markdown",
   "metadata": {},
   "source": [
    "**AMERICAN PUT:**"
   ]
  },
  {
   "cell_type": "code",
   "execution_count": 11,
   "metadata": {},
   "outputs": [],
   "source": [
    "def binomial_option_pricing_put_american(S, K, T, r, sigma, N):\n",
    "    dt = T / N\n",
    "    u = np.exp(sigma * np.sqrt(dt))\n",
    "    d = 1 / u\n",
    "    p = (np.exp(r * dt) - d) / (u - d)\n",
    "    \n",
    "    ST = np.array([S * (u**j) * (d**(N - j)) for j in range(N + 1)])\n",
    "    option_values = np.maximum(K - ST, 0)\n",
    "    \n",
    "    for i in range(N-1, -1, -1):\n",
    "        ST = ST[:i+1] * u**-1\n",
    "        continuation = np.exp(-r * dt) * (p * option_values[1:] + (1 - p) * option_values[:-1])\n",
    "        exercise = np.maximum(K - ST, 0)\n",
    "        option_values = np.maximum(continuation, exercise)\n",
    "    \n",
    "    return option_values[0]"
   ]
  }
 ],
 "metadata": {
  "kernelspec": {
   "display_name": "Python 3",
   "language": "python",
   "name": "python3"
  },
  "language_info": {
   "codemirror_mode": {
    "name": "ipython",
    "version": 3
   },
   "file_extension": ".py",
   "mimetype": "text/x-python",
   "name": "python",
   "nbconvert_exporter": "python",
   "pygments_lexer": "ipython3",
   "version": "3.12.10"
  }
 },
 "nbformat": 4,
 "nbformat_minor": 2
}
